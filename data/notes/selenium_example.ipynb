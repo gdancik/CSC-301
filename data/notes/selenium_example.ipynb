{
 "cells": [
  {
   "cell_type": "markdown",
   "metadata": {
    "deletable": false,
    "editable": false
   },
   "source": [
    "# Selenium\n",
    "\n",
    "Selenium (https://www.seleniumhq.org/) automates browsers. Primarily, it is for automating web applications for testing purposes, but it not limited to just that. Boring web-based tasks can (and should!) be automated as well.\n",
    "\n",
    "In the code cell below, the statement\n",
    "```python\n",
    "from selenium import webdriver\n",
    "```\n",
    "is used to import the webdriver, which is always necessary for automating browsing."
   ]
  },
  {
   "cell_type": "code",
   "execution_count": null,
   "metadata": {
    "deletable": false,
    "editable": false
   },
   "outputs": [],
   "source": [
    "from selenium import webdriver"
   ]
  },
  {
   "cell_type": "markdown",
   "metadata": {
    "deletable": false,
    "editable": false
   },
   "source": [
    "### Using selenium to open a website\n",
    "\n",
    "We first need to create an object for the web driver, which we use to open the page. In our class we use the Firefox webdriver, but others are available (see section 1.3 here: https://selenium-python.readthedocs.io/installation.html)\n",
    "\n",
    "Note that on a school computer, you will need to specify the executable path to the webdriver, but this (likely) will not be the case on your personal computer.\n",
    "\n",
    "```python\n",
    "driver = webdriver.Firefox(executable_path='C:\\geckodriver\\geckodriver.exe')\n",
    "```\n",
    "\n",
    "Create the web driver object that controls the browser; this will open a Firefox brower with an empty url."
   ]
  },
  {
   "cell_type": "code",
   "execution_count": null,
   "metadata": {
    "deletable": false,
    "editable": false
   },
   "outputs": [],
   "source": [
    "driver = webdriver.Firefox()"
   ]
  },
  {
   "cell_type": "markdown",
   "metadata": {
    "deletable": false,
    "editable": false
   },
   "source": [
    "To browse to a page, simply use the *driver.get* method and specify the URL."
   ]
  },
  {
   "cell_type": "code",
   "execution_count": null,
   "metadata": {
    "deletable": false,
    "editable": false
   },
   "outputs": [],
   "source": [
    "driver.get('http://www.easternct.edu')"
   ]
  },
  {
   "cell_type": "markdown",
   "metadata": {},
   "source": [
    "### Locating elements\n",
    "\n",
    "There are various methods available for finding single or multiple elements. The most relevant methods (for us) are given below. For a complete list, see https://selenium-python.readthedocs.io/locating-elements.html. These methods can be called using the *driver* or any selenium web element.\n",
    "\n",
    "Several methods can be used to find a single element:\n",
    "\n",
    "- *find_element_by_id(id)* returns the (first) element with the specified *id*\n",
    "- *find_element_by_tag_name(name)* returns the first element with the specified tag *name*\n",
    "- *find_element_by_name(name)* returns the first element with the specified *name*\n",
    "- *find_element_by_class(class)* returns the first element with the specified *class*\n",
    "- *find_element_by_css_selector(selector)* returns the first element with the specified *css selector*, e.g. *div.class*\n",
    "\n",
    "Several methods can be used to return a *list* of elements:\n",
    "\n",
    "- *find_elements_by_tag_name(name)* returns a list of elements with the specified *tag name*\n",
    "- *find_elements_by_class(class)* returns a list of elements with the specified *class*\n",
    "- *find_elements_by_css_selector(selector)* returns a list of elements with the specified css *selector*\n",
    "\n",
    "Note: if no elements exist, a *NoSuchElementException* will be raised."
   ]
  },
  {
   "cell_type": "markdown",
   "metadata": {
    "deletable": false,
    "editable": false
   },
   "source": [
    "The code below finds the first *ul* element on the page, which holds the list of menu items in the header of the page. The element is stored in a *webelement* object."
   ]
  },
  {
   "cell_type": "code",
   "execution_count": null,
   "metadata": {
    "deletable": false,
    "editable": false
   },
   "outputs": [],
   "source": [
    "ul = driver.find_element_by_tag_name('ul')\n",
    "ul"
   ]
  },
  {
   "cell_type": "markdown",
   "metadata": {
    "deletable": false,
    "editable": false
   },
   "source": [
    "### Extracting text from elements\n",
    "To extract text from an element, simply use its *text* method."
   ]
  },
  {
   "cell_type": "code",
   "execution_count": null,
   "metadata": {
    "deletable": false,
    "editable": false
   },
   "outputs": [],
   "source": [
    "list_items = ul.find_elements_by_tag_name('li')\n",
    "for li in list_items :\n",
    "    print(li.text)"
   ]
  },
  {
   "cell_type": "markdown",
   "metadata": {
    "deletable": false,
    "editable": false
   },
   "source": [
    "### Clicking on an element\n",
    "\n",
    "You can click on an element using the *click* method. Note that you will get an error if the element cannot be clicked. For example, this happens if you run the cell below twice."
   ]
  },
  {
   "cell_type": "code",
   "execution_count": null,
   "metadata": {
    "deletable": false,
    "editable": false
   },
   "outputs": [],
   "source": [
    "searchIcon = driver.find_element_by_class_name('search-icon-off')\n",
    "searchIcon.click()"
   ]
  },
  {
   "cell_type": "markdown",
   "metadata": {
    "deletable": false,
    "editable": false
   },
   "source": [
    "### Adding text to an input\n",
    "\n",
    "The *send_keys* method can be used to add text to an input. Here we add \"How are you\" to the search input that is now visible because we clicked on the search icon."
   ]
  },
  {
   "cell_type": "code",
   "execution_count": null,
   "metadata": {
    "deletable": false,
    "editable": false
   },
   "outputs": [],
   "source": [
    "elem = driver.find_element_by_name(\"q\")\n",
    "elem.send_keys(\"How are you?\")"
   ]
  },
  {
   "cell_type": "markdown",
   "metadata": {
    "deletable": false,
    "editable": false
   },
   "source": [
    "We can clear input using the *clear* method."
   ]
  },
  {
   "cell_type": "code",
   "execution_count": null,
   "metadata": {
    "deletable": false,
    "editable": false
   },
   "outputs": [],
   "source": [
    "elem.clear()"
   ]
  },
  {
   "cell_type": "markdown",
   "metadata": {
    "deletable": false,
    "editable": false
   },
   "source": [
    "Let's search for \"Computer Science\", by entering the text and then pressing the *Enter* key.\n",
    "\n",
    "The statement\n",
    "```python\n",
    "from selenium.webdriver.common.keys import Keys\n",
    "```\n",
    "is needed so that we can simulate a user hitting the ENTER (RETURN) button."
   ]
  },
  {
   "cell_type": "code",
   "execution_count": null,
   "metadata": {
    "deletable": false,
    "editable": false
   },
   "outputs": [],
   "source": [
    "from selenium.webdriver.common.keys import Keys\n",
    "elem.send_keys(\"Computer Science\")\n",
    "elem.send_keys(Keys.RETURN)"
   ]
  },
  {
   "cell_type": "markdown",
   "metadata": {
    "deletable": false,
    "editable": false
   },
   "source": [
    "### Getting the value of an attribute\n",
    "\n",
    "The method *get_attribute* can be used to get the value of an attribute of an element. Here we get all links on the page, and display the text of the link as well as the URL (the *href* attribute)."
   ]
  },
  {
   "cell_type": "code",
   "execution_count": null,
   "metadata": {
    "deletable": false,
    "editable": false
   },
   "outputs": [],
   "source": [
    "links = driver.find_elements_by_tag_name('a')\n",
    "for l in links :\n",
    "        text = l.text\n",
    "        if l.text != '':\n",
    "            print(text, l.get_attribute(\"href\"), sep = ': ')"
   ]
  },
  {
   "cell_type": "markdown",
   "metadata": {
    "deletable": false,
    "editable": false
   },
   "source": [
    "### Exercise: \n",
    "Search for a movie on IMDB and go to the page for the first result by *clicking* on the link. \n",
    "Can you extract the title and rating?\n",
    "\n",
    "Note: It is important to sleep for a second or two between carrying out the search and going to the first result. \n"
   ]
  },
  {
   "cell_type": "code",
   "execution_count": null,
   "metadata": {
    "deletable": false,
    "editable": false
   },
   "outputs": [],
   "source": [
    "import time"
   ]
  },
  {
   "cell_type": "code",
   "execution_count": null,
   "metadata": {},
   "outputs": [],
   "source": []
  },
  {
   "cell_type": "markdown",
   "metadata": {
    "deletable": false,
    "editable": false
   },
   "source": [
    "### Close the driver\n",
    "\n",
    "Close the driver when you are done."
   ]
  },
  {
   "cell_type": "code",
   "execution_count": null,
   "metadata": {
    "deletable": false,
    "editable": false
   },
   "outputs": [],
   "source": [
    "driver.close()"
   ]
  },
  {
   "cell_type": "markdown",
   "metadata": {
    "deletable": false,
    "editable": false
   },
   "source": [
    "### Final comments (headless browsers and screenshots)\n",
    "\n",
    "It is possible to make a browser *headless* (meaning the browser no longer has a GUI and you therefore will not see it), by setting *options* as in the code below. You can also save a screenshot of   This is commonly done with testing. "
   ]
  },
  {
   "cell_type": "code",
   "execution_count": null,
   "metadata": {
    "deletable": false,
    "editable": false
   },
   "outputs": [],
   "source": [
    "# configure headless browser\n",
    "from selenium.webdriver.firefox.options import Options\n",
    "options = Options()\n",
    "options.headless = True\n",
    "print('configuring headless browser ...')\n",
    "driver = webdriver.Firefox(options=options)\n",
    "\n",
    "# go to Google News and take a screenshot\n",
    "print('opening http://news.google.com ...')\n",
    "driver.get('http://news.google.com')\n",
    "\n",
    "print('take a screenshot ...')\n",
    "driver.save_screenshot('google_news.png')\n",
    "\n",
    "# close the browser\n",
    "print('close the browser...')\n",
    "driver.close()\n",
    "\n",
    "print('done!')"
   ]
  },
  {
   "cell_type": "code",
   "execution_count": null,
   "metadata": {},
   "outputs": [],
   "source": []
  }
 ],
 "metadata": {
  "kernelspec": {
   "display_name": "Python 3",
   "language": "python",
   "name": "python3"
  },
  "language_info": {
   "codemirror_mode": {
    "name": "ipython",
    "version": 3
   },
   "file_extension": ".py",
   "mimetype": "text/x-python",
   "name": "python",
   "nbconvert_exporter": "python",
   "pygments_lexer": "ipython3",
   "version": "3.7.4"
  }
 },
 "nbformat": 4,
 "nbformat_minor": 2
}
