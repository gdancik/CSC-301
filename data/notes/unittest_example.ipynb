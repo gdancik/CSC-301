{
 "cells": [
  {
   "cell_type": "markdown",
   "metadata": {
    "deletable": false,
    "editable": false
   },
   "source": [
    "# Unit Testing\n",
    "\n",
    "Unit testing is a framework for testing whether classes and functions work correctly in a program. In software development projects, unit tests are often automatically run after code is modified to ensure that the code still works correctly.\n",
    "\n",
    "To set up unit tests in python, we\n",
    "1. Define a class that inherits from the *unittest.TestCase* class\n",
    "1. Define methods in the class that will perform the tests (these method names must\n",
    "   begin with 'test')\n",
    "1. Test for correctness using *assertEqual* (or other *assert* methods) in these methods \n",
    "\n",
    "More details: https://docs.python.org/3/library/unittest.html\n",
    "\n",
    "In this Notebook we use unit testing to test the correctness of the two functions below.  We start by defining two functions, *add* and *subtract*, the latter of which is intentionally incorrect."
   ]
  },
  {
   "cell_type": "code",
   "execution_count": null,
   "metadata": {
    "deletable": false,
    "editable": false
   },
   "outputs": [],
   "source": [
    "def add(x,y) :\n",
    "    '''Returns the sum of x and y'''\n",
    "    return x + y\n",
    "\n",
    "def subtract(x,y) :\n",
    "    '''Returns the difference of y subtracted from x'''\n",
    "    return x + y"
   ]
  },
  {
   "cell_type": "markdown",
   "metadata": {
    "deletable": false,
    "editable": false
   },
   "source": [
    "### Define the unit testing class\n",
    "\n",
    "To carry out the unit test, we need to define a class that inherits from *unittest.Testcase*, which will contain the methods for carrying out the tests. The method names must begin with *test* and should describe the function being tested.\n",
    "\n",
    "When the unit tests are run, the *assertEqual(x,y)* method will *fail* if *x* is not equal to *y* (i.e., if *x == y* is *False*)."
   ]
  },
  {
   "cell_type": "code",
   "execution_count": null,
   "metadata": {
    "deletable": false,
    "editable": false
   },
   "outputs": [],
   "source": [
    "import unittest\n",
    "\n",
    "# define a class that inherits from unittest.TestCase\n",
    "class TestCalculator(unittest.TestCase):\n",
    "\n",
    "    # method for testing the 'add' function\n",
    "    def test_add(self) :\n",
    "        answer = add(3,4)\n",
    "        self.assertEqual(answer, 7)\n",
    "        \n",
    "    # method for testing the 'subtract' function\n",
    "    def test_subtract(self) :\n",
    "        answer = subtract(3,4)\n",
    "        self.assertEqual(answer, -1)    "
   ]
  },
  {
   "cell_type": "markdown",
   "metadata": {
    "deletable": false,
    "editable": false
   },
   "source": [
    "The next step is to create a *suite*, which is a collection of tests, and then run the test using the *TextTestRunner* and *run* methods. The *verbosity* argument is set to 2 to display more information (the default value is 1, which displays less information). \n",
    "\n",
    "Note that these two statements must be executed together, because once a test is run it is removed from the suite."
   ]
  },
  {
   "cell_type": "code",
   "execution_count": null,
   "metadata": {
    "deletable": false,
    "editable": false
   },
   "outputs": [],
   "source": [
    "suite = unittest.TestLoader().loadTestsFromTestCase(TestCalculator)\n",
    "unittest.TextTestRunner(verbosity=2).run(suite)"
   ]
  },
  {
   "cell_type": "markdown",
   "metadata": {
    "deletable": false,
    "editable": false
   },
   "source": [
    "### Exercise\n",
    "Fix the *subtract* function and re-run the test"
   ]
  },
  {
   "cell_type": "code",
   "execution_count": null,
   "metadata": {},
   "outputs": [],
   "source": [
    "def subtract(x,y) :\n",
    "    '''Returns the difference of y subtracted from x'''\n",
    "    return x + y"
   ]
  },
  {
   "cell_type": "code",
   "execution_count": null,
   "metadata": {
    "deletable": false,
    "editable": false
   },
   "outputs": [],
   "source": [
    "suite = unittest.TestLoader().loadTestsFromTestCase(TestCalculator)\n",
    "unittest.TextTestRunner(verbosity=2).run(suite)"
   ]
  },
  {
   "cell_type": "markdown",
   "metadata": {
    "deletable": false,
    "editable": false
   },
   "source": [
    "### Unit testing philosophy\n",
    "\n",
    "In general, each test method should test a very specific concept or category of use cases (which often will include a single assert). A test method can contain multiple asserts, but if an assert fails, additional asserts in the same method are not executed. Therefore, if an assert fails, it is unknown if subsequent asserts will fail or not. In case of a failure, the name of the failed test method and failing assert statement will be displayed (so the name of the test method should describe the concept being tested). A single function can (and often should) have multiple test methods. \n",
    "\n",
    "For example, the code below shows how we might test a function whose logic depends on the value of its argument.\n",
    "\n",
    "```python\n",
    "def fulltime(num_credits) :\n",
    "    '''returns true if a student is fulltime based on number of credits'''\n",
    "    return num_credits >= 12\n",
    "\n",
    "\n",
    "class TestStudent(unittest.TestCase):\n",
    "\n",
    "    def test_fulltime_true(self) :\n",
    "        answer = fulltime(20)\n",
    "        self.assertEqual(answer, True)\n",
    "        \n",
    "    def test_fulltime_false(self) :\n",
    "        answer = fulltime(5)\n",
    "        self.assertEqual(answer, False)\n",
    "\n",
    "    def test_fulltime_12(self) :\n",
    "         answer = fulltime(12)\n",
    "         self.assertEqual(answer, True)\n",
    "```"
   ]
  },
  {
   "cell_type": "code",
   "execution_count": null,
   "metadata": {},
   "outputs": [],
   "source": []
  }
 ],
 "metadata": {
  "kernelspec": {
   "display_name": "Python 3 (ipykernel)",
   "language": "python",
   "name": "python3"
  },
  "language_info": {
   "codemirror_mode": {
    "name": "ipython",
    "version": 3
   },
   "file_extension": ".py",
   "mimetype": "text/x-python",
   "name": "python",
   "nbconvert_exporter": "python",
   "pygments_lexer": "ipython3",
   "version": "3.9.7"
  }
 },
 "nbformat": 4,
 "nbformat_minor": 2
}
