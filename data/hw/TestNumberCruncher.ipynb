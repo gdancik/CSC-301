{
 "cells": [
  {
   "cell_type": "markdown",
   "metadata": {
    "deletable": false,
    "editable": false
   },
   "source": [
    "# Unit Test for Number Cruncher\n",
    "\n",
    "First, we define a helper function that will allow us to set the value of the *numbers* input to *string* on the page that the web driver is pointing to."
   ]
  },
  {
   "cell_type": "code",
   "execution_count": null,
   "metadata": {
    "deletable": false,
    "editable": false
   },
   "outputs": [],
   "source": [
    "def enterNumbers(driver, string) :\n",
    "        '''Sets the value of #numbers on the page to the specified string'''\n",
    "        numbers = driver.find_element_by_id(\"numbers\")\n",
    "        numbers.clear()\n",
    "        numbers.send_keys(string)"
   ]
  },
  {
   "cell_type": "markdown",
   "metadata": {
    "deletable": false,
    "editable": false
   },
   "source": [
    "In the code below, we use the *os* module to get the current directory, so we can open the local HTML file using Selenium. In this Notebook, we assume that *number_cruncher.html* is saved in the same directory as this Notebook."
   ]
  },
  {
   "cell_type": "code",
   "execution_count": null,
   "metadata": {
    "deletable": false,
    "editable": false
   },
   "outputs": [],
   "source": [
    "import os\n",
    "os.getcwd()"
   ]
  },
  {
   "cell_type": "markdown",
   "metadata": {},
   "source": [
    "### These cells are provided for testing purposes"
   ]
  },
  {
   "cell_type": "code",
   "execution_count": null,
   "metadata": {},
   "outputs": [],
   "source": [
    "import os\n",
    "driver = webdriver.Firefox()\n",
    "driver.get('file://' + os.getcwd() + '/number_cruncher.html')"
   ]
  },
  {
   "cell_type": "code",
   "execution_count": null,
   "metadata": {},
   "outputs": [],
   "source": [
    "enterNumbers(driver, 'hi')"
   ]
  },
  {
   "cell_type": "code",
   "execution_count": null,
   "metadata": {},
   "outputs": [],
   "source": [
    "driver.close()"
   ]
  },
  {
   "cell_type": "markdown",
   "metadata": {
    "deletable": false,
    "editable": false
   },
   "source": [
    "### Define the Unit Testing class (needs to be modified for HW)\n",
    "\n",
    "Next we define the class to conduct the Unit Test (this needs to be extended for the HW). Here we define *setUp* and *tearDown* methods that are automatically executed before and after each unit test. \n",
    "\n",
    "The class is set up to use a global *driver* that must be created before the tests are run. "
   ]
  },
  {
   "cell_type": "code",
   "execution_count": null,
   "metadata": {},
   "outputs": [],
   "source": [
    "import unittest\n",
    "from selenium import webdriver\n",
    "from selenium.webdriver.firefox.options import Options\n",
    "import os\n",
    "\n",
    "\n",
    "# define the class that controls the unit testing\n",
    "class TestNumberCruncher(unittest.TestCase):\n",
    "\n",
    "    # setUp is executed at the beginning of each test (open and refresh the page)\n",
    "    def setUp(self) :\n",
    "        driver.get('file://' + os.getcwd() + '/number_cruncher.html')\n",
    "        driver.refresh()\n",
    "    \n",
    "    # tests whether the correct response message is displayed for valid values\n",
    "    def test_addNumbersValidValue(self) :\n",
    "\n",
    "        # test using numbers 1,5,7\n",
    "        enterNumbers(driver, '1,5,7')\n",
    "        \n",
    "        # click the 'add' button\n",
    "        driver.find_element_by_id('btnAdd').click()\n",
    "        \n",
    "        # test that correct answer is 13\n",
    "        div = driver.find_element_by_id('answer')\n",
    "        message = div.text\n",
    "        self.assertEqual(message, 'The sum of the numbers is 13')\n",
    "          \n",
    "    # tests whether the correct response message is the right color\n",
    "    def test_addNumbersValidCSS(self) :\n",
    "\n",
    "        # test using numbers 1,5,7\n",
    "        enterNumbers(driver, '1,5,7')\n",
    "        \n",
    "        # click the 'add' button\n",
    "        driver.find_element_by_id('btnAdd').click()\n",
    "        \n",
    "        # test whether the color property is correct\n",
    "        div = driver.find_element_by_id('answer')\n",
    "        color = div.value_of_css_property('color')\n",
    "        self.assertEqual(color, 'rgb(0, 128, 0)')\n",
    "\n",
    "        \n",
    "    # tests whether clicking reset clears the input\n",
    "    def test_reset(self) :\n",
    "\n",
    "        # test using numbers 1,5,7\n",
    "        enterNumbers(driver, '1,5,7')\n",
    "        numbers = driver.find_element_by_id(\"numbers\")\n",
    "        \n",
    "        # click the 'reset' button\n",
    "        reset = driver.find_element_by_id('btnReset')\n",
    "        reset.click()\n",
    "        \n",
    "        # get and check the value of the input\n",
    "        value = numbers.get_attribute('value')        \n",
    "        self.assertEqual(value, '')\n",
    "\n",
    "        \n",
    "    # TO DO: add method 'test_addNumbersInvalidValue' that tests whether the\n",
    "    # correct message is displayed if user input is not valid\n",
    "    \n",
    "    \n",
    "    # TO DO: add method 'test_addNumbersInvalidCSS' that tests whether the response\n",
    "    # message for invalid input is the right color\n",
    "    \n",
    "\n",
    "        \n",
    "    # tearDown (not used) is executed at the end of each test\n",
    "    def tearDown(self) :\n",
    "        None\n",
    "    \n"
   ]
  },
  {
   "cell_type": "markdown",
   "metadata": {
    "deletable": false,
    "editable": false
   },
   "source": [
    "### Make driver headless, if desired\n",
    "\n",
    "Set the driver's headless option here. Setting options.headless to True will hide the browser; False will show it."
   ]
  },
  {
   "cell_type": "code",
   "execution_count": null,
   "metadata": {},
   "outputs": [],
   "source": [
    "options = Options()\n",
    "options.headless = False"
   ]
  },
  {
   "cell_type": "markdown",
   "metadata": {
    "deletable": false,
    "editable": false
   },
   "source": [
    "### Create the driver and execute the tests."
   ]
  },
  {
   "cell_type": "code",
   "execution_count": null,
   "metadata": {
    "deletable": false,
    "editable": false
   },
   "outputs": [],
   "source": [
    "# create the driver (needed for TestNumberCruncher)\n",
    "\n",
    "driver = webdriver.Firefox(options = options)\n",
    "\n",
    "# create a suite (collection of tests)    \n",
    "suite = unittest.TestLoader().loadTestsFromTestCase(TestNumberCruncher)\n",
    "\n",
    "# run the tests\n",
    "unittest.TextTestRunner(verbosity=2).run(suite)\n",
    "\n",
    "driver.close()"
   ]
  },
  {
   "cell_type": "code",
   "execution_count": null,
   "metadata": {},
   "outputs": [],
   "source": []
  }
 ],
 "metadata": {
  "kernelspec": {
   "display_name": "Python 3",
   "language": "python",
   "name": "python3"
  },
  "language_info": {
   "codemirror_mode": {
    "name": "ipython",
    "version": 3
   },
   "file_extension": ".py",
   "mimetype": "text/x-python",
   "name": "python",
   "nbconvert_exporter": "python",
   "pygments_lexer": "ipython3",
   "version": "3.7.4"
  }
 },
 "nbformat": 4,
 "nbformat_minor": 2
}
