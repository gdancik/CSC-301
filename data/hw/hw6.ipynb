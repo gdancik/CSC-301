{
 "cells": [
  {
   "cell_type": "markdown",
   "metadata": {
    "deletable": false,
    "editable": false
   },
   "source": [
    "# Homework #6\n",
    "\n",
    "### Question 1  <span style = 'font-size: 80%'>[10 points]</span>\n",
    "\n",
    "Write your name in the Markdown cell below and highlight it in yellow."
   ]
  },
  {
   "cell_type": "markdown",
   "metadata": {},
   "source": [
    "### Name:   "
   ]
  },
  {
   "cell_type": "markdown",
   "metadata": {
    "deletable": false,
    "editable": false
   },
   "source": [
    "### Question 2  <span style = 'font-size: 80%'>[10 points]</span>\n",
    "\n",
    "Use three variables to store your first name, last name, and the number of courses you are taking. Then output a statement of the form\n",
    "\n",
    "```\n",
    "Mary Smith is taking 4 classes\n",
    "```\n",
    "\n",
    "where Mary, Smith, and 4 are stored in the 3 variables. "
   ]
  },
  {
   "cell_type": "code",
   "execution_count": null,
   "metadata": {},
   "outputs": [],
   "source": []
  },
  {
   "cell_type": "markdown",
   "metadata": {
    "deletable": false,
    "editable": false
   },
   "source": [
    "### Question 3 <span style = 'font-size: 80%'>[20 points]</span>\n",
    "\n",
    "Use the list below to answer the following questions:"
   ]
  },
  {
   "cell_type": "code",
   "execution_count": null,
   "metadata": {
    "deletable": false,
    "editable": false
   },
   "outputs": [],
   "source": [
    "courses = ['CSC 210', 'MAT 135', 'MAT 243', 'MAT 244', 'CSC 231', 'CSC 301', 'CSC 450'] \n",
    "courses"
   ]
  },
  {
   "cell_type": "markdown",
   "metadata": {
    "deletable": false,
    "editable": false
   },
   "source": [
    "a)\tUse the *len* function to output the number of courses in the list"
   ]
  },
  {
   "cell_type": "code",
   "execution_count": null,
   "metadata": {},
   "outputs": [],
   "source": []
  },
  {
   "cell_type": "markdown",
   "metadata": {
    "deletable": false,
    "editable": false
   },
   "source": [
    "b) Use a loop to iterate through each course in the list and output all CSC courses (these are courses that contain 'CSC'). "
   ]
  },
  {
   "cell_type": "code",
   "execution_count": null,
   "metadata": {},
   "outputs": [],
   "source": []
  },
  {
   "cell_type": "markdown",
   "metadata": {
    "deletable": false,
    "editable": false
   },
   "source": [
    "c) Use a loop to iterate through each course in the list and output all courses that are 200 level or higher. Hint: For a single course, e.g., \n",
    "\n",
    "\n",
    "```python\n",
    "course = 'CSC 301', \n",
    "```\n",
    "\n",
    "then the code `course.split()` returns a list containing two elements, 'CSC' and '301'. In addition, for a string `s = '301'`, obtaining the first character of s using slicing will return '3'. Finally, if needed, you can convert a string to an integer using the int() function. "
   ]
  },
  {
   "cell_type": "markdown",
   "metadata": {
    "deletable": false,
    "editable": false
   },
   "source": [
    "### Question 4 <span style = 'font-size: 80%'>[10 points]</span>\n",
    "\n",
    "Use list comprehension to create a list named *csc* that contains only the CSC courses from the *courses* list."
   ]
  },
  {
   "cell_type": "code",
   "execution_count": null,
   "metadata": {},
   "outputs": [],
   "source": []
  },
  {
   "cell_type": "markdown",
   "metadata": {
    "deletable": false,
    "editable": false
   },
   "source": [
    "### Question 5 <span style = 'font-size: 80%'>[10 points]</span>\n",
    "\n",
    "Create a Python dictionary for at least 3 courses that allows someone to look up the time of the course. For example, looking up 'CSC-301'  would return 'MWF 11:00 – 11:50'.\n",
    "\n",
    "Then use the code below to prompt a user to enter the name of a course, which is stored in the variable *userCourse*. Then either output the time the course is offered or output 'Course not found' if the course is not in the dictionary.\n",
    "\n",
    "```python\n",
    "userCourse = input('Enter a course: ')\n",
    "```"
   ]
  },
  {
   "cell_type": "code",
   "execution_count": null,
   "metadata": {},
   "outputs": [],
   "source": []
  }
 ],
 "metadata": {
  "kernelspec": {
   "display_name": "Python 3 (ipykernel)",
   "language": "python",
   "name": "python3"
  },
  "language_info": {
   "codemirror_mode": {
    "name": "ipython",
    "version": 3
   },
   "file_extension": ".py",
   "mimetype": "text/x-python",
   "name": "python",
   "nbconvert_exporter": "python",
   "pygments_lexer": "ipython3",
   "version": "3.9.7"
  }
 },
 "nbformat": 4,
 "nbformat_minor": 2
}
